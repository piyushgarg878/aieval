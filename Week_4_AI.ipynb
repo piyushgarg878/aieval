{
  "nbformat": 4,
  "nbformat_minor": 0,
  "metadata": {
    "colab": {
      "provenance": [],
      "include_colab_link": true
    },
    "kernelspec": {
      "name": "python3",
      "display_name": "Python 3"
    },
    "language_info": {
      "name": "python"
    }
  },
  "cells": [
    {
      "cell_type": "markdown",
      "metadata": {
        "id": "view-in-github",
        "colab_type": "text"
      },
      "source": [
        "<a href=\"https://colab.research.google.com/github/piyushgarg878/aieval/blob/main/Week_4_AI.ipynb\" target=\"_parent\"><img src=\"https://colab.research.google.com/assets/colab-badge.svg\" alt=\"Open In Colab\"/></a>"
      ]
    },
    {
      "cell_type": "code",
      "execution_count": null,
      "metadata": {
        "id": "Peuf6dZj04VT"
      },
      "outputs": [],
      "source": [
        "def enqueue(s,val):\n",
        "    q.append((val,s))\n",
        "    return q\n",
        "\n"
      ]
    },
    {
      "cell_type": "code",
      "source": [
        "def heuristic(s,g):\n",
        "    d = 0\n",
        "    for i in range(3):\n",
        "        for j in range(3):\n",
        "            if s[i][j] != g[i][j]:\n",
        "                d += 1\n",
        "    return d"
      ],
      "metadata": {
        "id": "Tv-Y7Yun11HG"
      },
      "execution_count": null,
      "outputs": []
    },
    {
      "cell_type": "code",
      "source": [
        "def deque():\n",
        "  global q\n",
        "  new=[]\n",
        "  for each in q:\n",
        "    new.append(each[1])\n",
        "  new.sort()\n",
        "  for each in q:\n",
        "    if(each[1]==new[0]):\n",
        "      elem=each[0]\n",
        "      print(\"elem\",elem)\n",
        "      break\n",
        "  q.remove((elem,each[1]))\n",
        "  return ((elem,q))\n",
        "\n"
      ],
      "metadata": {
        "id": "3s2SLFGX18su"
      },
      "execution_count": null,
      "outputs": []
    },
    {
      "cell_type": "code",
      "source": [
        "def empty_tile(mat):\n",
        "  for i in range(3):\n",
        "    for j in range(3):\n",
        "      if mat[i][j]==0:\n",
        "        return([i,j])"
      ],
      "metadata": {
        "id": "z2CVEMs907lk"
      },
      "execution_count": null,
      "outputs": []
    },
    {
      "cell_type": "code",
      "source": [
        "def move_up(mat):\n",
        "  l=empty_tile(mat)\n",
        "  mat1=copy.deepcopy(mat)\n",
        "  i=l[0]\n",
        "  j=l[1]\n",
        "  if i!=0:\n",
        "    mat1[i][j],mat1[i-1][j]=mat1[i-1][j],mat1[i][j]\n",
        "    return mat1\n",
        "  else:\n",
        "    return mat"
      ],
      "metadata": {
        "id": "EpCKnKnK08Lb"
      },
      "execution_count": null,
      "outputs": []
    },
    {
      "cell_type": "code",
      "source": [
        "def move_down(mat):\n",
        "  l=empty_tile(mat)\n",
        "  mat1=copy.deepcopy(mat)\n",
        "  i=l[0]\n",
        "  j=l[1]\n",
        "  if i!=2:\n",
        "    mat1[i][j],mat1[i+1][j]=mat1[i+1][j],mat1[i][j]\n",
        "    return mat1\n",
        "  else:\n",
        "    return mat"
      ],
      "metadata": {
        "id": "L-6-fi1b0-Ka"
      },
      "execution_count": null,
      "outputs": []
    },
    {
      "cell_type": "code",
      "source": [
        "def move_left(mat):\n",
        "  l=empty_tile(mat)\n",
        "  i=l[0]\n",
        "  j=l[1]\n",
        "  mat1=copy.deepcopy(mat)\n",
        "  if j!=0:\n",
        "    mat1[i][j],mat1[i][j-1]=mat1[i][j-1],mat1[i][j]\n",
        "    return mat1\n",
        "  else:\n",
        "    return mat"
      ],
      "metadata": {
        "id": "00KIPhKt1BLH"
      },
      "execution_count": null,
      "outputs": []
    },
    {
      "cell_type": "code",
      "source": [
        "def move_right(mat):\n",
        "  l=empty_tile(mat)\n",
        "  mat1=copy.deepcopy(mat)\n",
        "  i=l[0]\n",
        "  j=l[1]\n",
        "  if j!=2:\n",
        "    mat1[i][j],mat1[i][j+1]=mat1[i][j+1],mat1[i][j]\n",
        "    return mat1\n",
        "  else:\n",
        "    return mat"
      ],
      "metadata": {
        "id": "aLOKdiSx1C39"
      },
      "execution_count": null,
      "outputs": []
    },
    {
      "cell_type": "code",
      "source": [
        "def bestfs_search(mat,g):\n",
        "  global q\n",
        "  global visited\n",
        "  visited=[]\n",
        "  q=[]\n",
        "  visited.append(mat)\n",
        "  while(1):\n",
        "      new = move_up(mat)\n",
        "      val=heuristic(new,g)\n",
        "      if new != mat:\n",
        "        if new == g:\n",
        "            print (\"found\")\n",
        "            return\n",
        "        else:\n",
        "          if new not in visited:\n",
        "            q.append((new,val))\n",
        "\n",
        "      new = move_down(mat)\n",
        "      val=heuristic(new,g)\n",
        "      if new != mat:\n",
        "        if new == g:\n",
        "          print (\"found\")\n",
        "          return\n",
        "        else:\n",
        "          if new not in visited:\n",
        "            q.append((new,val))\n",
        "      new = move_right(mat)\n",
        "      val=heuristic(new,g)\n",
        "      if new != mat:\n",
        "        if new == g:\n",
        "          print (\"Found\")\n",
        "          return\n",
        "        else:\n",
        "          if new not in visited:\n",
        "            q.append((new,val))\n",
        "      new = move_left(mat)\n",
        "      val=heuristic(new,g)\n",
        "      if new != mat:\n",
        "        if new == g:\n",
        "          print (\"Found\")\n",
        "          return\n",
        "        else:\n",
        "          if new not in visited:\n",
        "            q.append((new,val))\n",
        "            print(new)\n",
        "      if len(q) > 0:\n",
        "        t = deque()\n",
        "        mat=t[0]\n",
        "        q=t[1]\n",
        "        if mat not in visited:\n",
        "          visited.append(mat)\n",
        "      else:\n",
        "        print (\"not found\")"
      ],
      "metadata": {
        "id": "yEYyVMuvuJHq"
      },
      "execution_count": null,
      "outputs": []
    },
    {
      "cell_type": "code",
      "source": [
        "import copy\n",
        "global q\n",
        "global visited\n",
        "s=[[1,0,2],[3,4,6],[8,5,7]]\n",
        "g=[[8,5,3],[7,0,6],[1,4,2]]\n",
        "bestfs_search(s,g)\n"
      ],
      "metadata": {
        "id": "FJcj9FIQucRF"
      },
      "execution_count": null,
      "outputs": []
    },
    {
      "cell_type": "code",
      "source": [
        "def heuristic_val(s,curr_state,g):\n",
        "    heur_val = heuristic(s,curr_state) + heuristic(g,curr_state)\n",
        "    return heur_val"
      ],
      "metadata": {
        "id": "vmiZvABcs3gl"
      },
      "execution_count": 1,
      "outputs": []
    },
    {
      "cell_type": "code",
      "source": [
        "def astar_search(s,g):\n",
        "    curr_state = copy.deepcopy(s)\n",
        "    if s == g:\n",
        "        return\n",
        "    global visited\n",
        "    global q\n",
        "    visited=[]\n",
        "    q=[]\n",
        "    while(1):\n",
        "        new = move_up(curr_state)\n",
        "        if new != curr_state:\n",
        "            if new == g:\n",
        "              print(\"found\")\n",
        "              return\n",
        "            else:\n",
        "                if new not in visited:\n",
        "                    q.append((new,heuristic_val(s,new,g)))\n",
        "\n",
        "        new = move_down(curr_state)\n",
        "        if new != curr_state:\n",
        "            if new == g:\n",
        "              print(\"found\")\n",
        "              return\n",
        "            else:\n",
        "                if new not in visited:\n",
        "                    q.append((new,heuristic_val(s,new,g)))\n",
        "\n",
        "        new = move_right(curr_state)\n",
        "        if new != curr_state:\n",
        "            if new == g:\n",
        "              print(\"found\")\n",
        "              return\n",
        "            else:\n",
        "                if new not in visited:\n",
        "                    q.append((new,heuristic_val(s,new,g)))\n",
        "\n",
        "        new = move_left(curr_state)\n",
        "        if new != curr_state:\n",
        "            if new == g:\n",
        "              print(\"found\")\n",
        "              return\n",
        "            else:\n",
        "                if new not in visited:\n",
        "                    q.append((new,heuristic_val(s,new,g)))\n",
        "\n",
        "        if len(q) > 0:\n",
        "            t = deque()\n",
        "            curr_state=t[0]\n",
        "            q=t[1]\n",
        "        else:\n",
        "            print (\"not found\")\n",
        "            return\n",
        "\n"
      ],
      "metadata": {
        "id": "zzBNDP6hwsaV"
      },
      "execution_count": null,
      "outputs": []
    },
    {
      "cell_type": "code",
      "source": [
        "import copy\n",
        "s = [[2,0,3],[1,8,4],[7,6,5]]\n",
        "g = [[1,2,3],[8,0,4],[7,6,5]]\n",
        "global q\n",
        "q=[]\n",
        "global visited\n",
        "visited=[]\n",
        "visited = visited + [s]\n",
        "astar_search(s,g)"
      ],
      "metadata": {
        "colab": {
          "base_uri": "https://localhost:8080/"
        },
        "id": "B9SdSxEFsuIZ",
        "outputId": "c343685c-d69d-40b4-a322-c2f10e5262f0"
      },
      "execution_count": null,
      "outputs": [
        {
          "output_type": "stream",
          "name": "stdout",
          "text": [
            "elem [[2, 8, 3], [1, 0, 4], [7, 6, 5]]\n",
            "elem [[2, 0, 3], [1, 8, 4], [7, 6, 5]]\n",
            "elem [[0, 2, 3], [1, 8, 4], [7, 6, 5]]\n",
            "elem [[2, 0, 3], [1, 8, 4], [7, 6, 5]]\n",
            "elem [[2, 8, 3], [1, 0, 4], [7, 6, 5]]\n",
            "elem [[2, 0, 3], [1, 8, 4], [7, 6, 5]]\n",
            "elem [[0, 2, 3], [1, 8, 4], [7, 6, 5]]\n",
            "elem [[2, 0, 3], [1, 8, 4], [7, 6, 5]]\n",
            "elem [[1, 2, 3], [0, 8, 4], [7, 6, 5]]\n",
            "found\n"
          ]
        }
      ]
    },
    {
      "cell_type": "code",
      "source": [
        "def Cost(H, path, weight = 1):\n",
        "\tcost = {}\n",
        "\tif 'AND' in path:\n",
        "\t\tAND_nodes = path['AND']\n",
        "\t\tPath_A = ' AND '.join(AND_nodes)\n",
        "\t\tPathA = sum(H[node]+weight for node in AND_nodes)\n",
        "\t\tcost[Path_A] = PathA\n",
        "\n",
        "\tif 'OR' in path:\n",
        "\t\tOR_nodes = path['OR']\n",
        "\t\tPath_B =' OR '.join(OR_nodes)\n",
        "\t\tPathB = min(H[node]+weight for node in OR_nodes)\n",
        "\t\tcost[Path_B] = PathB\n",
        "\treturn cost\n",
        "\n",
        "\n",
        "def update_cost(H, paths, weight=1):\n",
        "\tMain_nodes = list(paths.keys())\n",
        "\tMain_nodes.reverse()\n",
        "\tleast_cost= {}\n",
        "\tfor key in Main_nodes:\n",
        "\t\tpath = paths[key]\n",
        "\t\tprint(key,':', paths[key],'>>>', Cost(H, path, weight))\n",
        "\t\tc = Cost(H, path, weight)\n",
        "\t\tH[key] = min(c.values())\n",
        "\t\tleast_cost[key] = Cost(H, path, weight)\n",
        "\treturn least_cost\n",
        "\n",
        "\n",
        "def shortest_path(Start,Updated_cost, G):\n",
        "\tPath = Start\n",
        "\tif Start in Updated_cost.keys():\n",
        "\t\tMin_cost = min(Updated_cost[Start].values())\n",
        "\t\tkey = list(Updated_cost[Start].keys())\n",
        "\t\tvalues = list(Updated_cost[Start].values())\n",
        "\t\tIndex = values.index(Min_cost)\n",
        "\n",
        "\t\tNext = key[Index].split()\n",
        "\t\tif len(Next) == 1:\n",
        "\n",
        "\t\t\tStart =Next[0]\n",
        "\t\t\tPath += '<--' +shortest_path(Start, Updated_cost, G)\n",
        "\n",
        "\t\telse:\n",
        "\t\t\tPath +='<--('+key[Index]+') '\n",
        "\n",
        "\t\t\tStart = Next[0]\n",
        "\t\t\tPath += '[' +shortest_path(Start, Updated_cost, G) + ' + '\n",
        "\n",
        "\t\t\tStart = Next[-1]\n",
        "\t\t\tPath += shortest_path(Start, Updated_cost, G) + ']'\n",
        "\n",
        "\treturn Path\n",
        "\n",
        "\n",
        "\n",
        "G = {'A': -1, 'B': 5, 'C': 2, 'D': 4, 'E': 7, 'F': 9, 'G': 3, 'H': 0, 'I':0, 'J':0}\n",
        "\n",
        "paths= {\n",
        "'A': {'OR': ['B'], 'AND': ['C', 'D']},\n",
        "'B': {'OR': ['E', 'F']},\n",
        "'C': {'OR': ['G'], 'AND': ['H', 'I']},\n",
        "'D': {'OR': ['J']}\n",
        "}\n",
        "weight = 1\n",
        "print('Updated Cost :')\n",
        "Updated_cost = update_cost(G, paths, weight=1)\n",
        "print('Shortest Path :\\n',shortest_path('A', Updated_cost,G))\n"
      ],
      "metadata": {
        "colab": {
          "base_uri": "https://localhost:8080/"
        },
        "id": "T2FqJBfufX_j",
        "outputId": "b7e72134-f994-4b60-aa60-e6e09b4134a9"
      },
      "execution_count": null,
      "outputs": [
        {
          "output_type": "stream",
          "name": "stdout",
          "text": [
            "Updated Cost :\n",
            "D : {'OR': ['J']} >>> {'J': 1}\n",
            "C : {'OR': ['G'], 'AND': ['H', 'I']} >>> {'H AND I': 2, 'G': 4}\n",
            "B : {'OR': ['E', 'F']} >>> {'E OR F': 8}\n",
            "A : {'OR': ['B'], 'AND': ['C', 'D']} >>> {'C AND D': 5, 'B': 9}\n",
            "Shortest Path :\n",
            " A<--(C AND D) [C<--(H AND I) [H + I] + D<--J]\n"
          ]
        }
      ]
    }
  ]
}